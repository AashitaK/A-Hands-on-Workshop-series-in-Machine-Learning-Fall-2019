{
 "cells": [
  {
   "cell_type": "markdown",
   "metadata": {},
   "source": [
    "## A Hands-on Workshop series in Machine Learning\n",
    "### Session 2: Predicting election results using ANES (American National Election Study) data\n",
    "#### Instructor: Aashita Kesarwani\n",
    "\n",
    "You will use data from [ANES (American National Election Study)](https://electionstudies.org/data-center/) to build prediction models using decision trees and random forest for this session."
   ]
  },
  {
   "cell_type": "code",
   "execution_count": null,
   "metadata": {},
   "outputs": [],
   "source": [
    "import numpy as np\n",
    "import pandas as pd\n",
    "\n",
    "import warnings\n",
    "warnings.simplefilter('ignore') \n",
    "\n",
    "import matplotlib.pyplot as plt\n",
    "import seaborn as sns # Comment this if seaborn is not installed\n",
    "%matplotlib inline\n",
    "\n",
    "path = 'data/'\n",
    "df = pd.read_csv(path + 'anes.csv')\n",
    "\n",
    "df.head()"
   ]
  },
  {
   "cell_type": "code",
   "execution_count": null,
   "metadata": {},
   "outputs": [],
   "source": [
    "df.shape"
   ]
  },
  {
   "cell_type": "markdown",
   "metadata": {},
   "source": [
    "Let us check if there are any missing values in the dataset using [`isnull()`](https://pandas.pydata.org/pandas-docs/stable/reference/api/pandas.DataFrame.isnull.html) and [`sum()`](https://pandas.pydata.org/pandas-docs/stable/reference/api/pandas.DataFrame.sum.html) functions piped one after the other."
   ]
  },
  {
   "cell_type": "code",
   "execution_count": null,
   "metadata": {},
   "outputs": [],
   "source": [
    "df.isnull().sum()"
   ]
  },
  {
   "cell_type": "markdown",
   "metadata": {},
   "source": [
    "No missing values in the dataset!"
   ]
  },
  {
   "cell_type": "markdown",
   "metadata": {},
   "source": [
    "Let us check the different columns in the dataset."
   ]
  },
  {
   "cell_type": "code",
   "execution_count": null,
   "metadata": {},
   "outputs": [],
   "source": [
    "df.columns"
   ]
  },
  {
   "cell_type": "markdown",
   "metadata": {},
   "source": [
    "* race : Race-ethnicity summary, 7 categories\n",
    "* incgroup : DEMOGRAPHICS: Respondent Family - Income Group\n",
    "* education : DEMOGRAPHICS: Respondent - Education, 7-categories\n",
    "* classpercep : DEMOGRAPHICS: Respondent - Average or Upper Middle/Working Class \n",
    "* votenat : ELECTION: Did Respondent Vote in the National Elections\n",
    "* votepresid : ELECTION: Vote for President- Major Parties and Other\n",
    "* votecong : ELECTION: Vote for Congressman\n",
    "* voteincumb : ELECTION: Did Respondent Vote for Incumbent U.S. House Candidate\n",
    "* prevote : ELECTION: Respondent Pre-election Intent for Vote for President\n",
    "* voteintactual : ELECTION: Intended Presidential Vote versus Actual Presidential Vote \n",
    "* voterpref : ELECTION: Voter Strength of Preference - Presidential Cand \n",
    "* novoterpref : ELECTION: Nonvoter Strength of Preference- Presidential Cand \n",
    "* mobiliz : MOBILIZATION: Respondent Try to Influence the Vote of Others During the Campaign\n",
    "* poldiscuss : POLITICAL ENGAGEMENT: Respondent Discuss Politics with Family and Friends\n",
    "* jobscale : ISSUES: Guaranteed Jobs and Income Scale\n",
    "* numcandidat: ELECTION/RACE DESCRIPTION: Number of Candidates in U.S. House Race\n",
    "* close : POLITICAL ENGAGEMENT: Which Presidential Race in State Be Close\n",
    "* staterace : ELECTION/RACE DESCRIPTION: Senate Race in State"
   ]
  },
  {
   "cell_type": "markdown",
   "metadata": {},
   "source": [
    "Let us see how many respondents voted in the national elections."
   ]
  },
  {
   "cell_type": "code",
   "execution_count": null,
   "metadata": {},
   "outputs": [],
   "source": [
    "df['votenat'].value_counts()"
   ]
  },
  {
   "cell_type": "markdown",
   "metadata": {},
   "source": [
    "This can be represented as a piechart:"
   ]
  },
  {
   "cell_type": "code",
   "execution_count": null,
   "metadata": {},
   "outputs": [],
   "source": [
    "plt.axis('equal') \n",
    "plt.title(\"Respondents voted or not in the national elections\")\n",
    "plt.pie(df['votenat'].value_counts(), labels=('Yes', 'No', 'NA'));"
   ]
  },
  {
   "cell_type": "markdown",
   "metadata": {},
   "source": [
    "Let us check all the values in the *race* column using `unique()` function on the `race` column."
   ]
  },
  {
   "cell_type": "code",
   "execution_count": null,
   "metadata": {},
   "outputs": [],
   "source": [
    "df['race'].unique()"
   ]
  },
  {
   "cell_type": "code",
   "execution_count": null,
   "metadata": {},
   "outputs": [],
   "source": [
    "df['race'].value_counts()"
   ]
  },
  {
   "cell_type": "code",
   "execution_count": null,
   "metadata": {
    "scrolled": false
   },
   "outputs": [],
   "source": [
    "for col in df.columns:\n",
    "    print(\"Column:\", col)\n",
    "    print(df[col].value_counts(), sep=\"\\n\")\n",
    "    print()"
   ]
  },
  {
   "cell_type": "markdown",
   "metadata": {},
   "source": [
    "We now print out the unique values in each column:"
   ]
  },
  {
   "cell_type": "code",
   "execution_count": null,
   "metadata": {
    "scrolled": false
   },
   "outputs": [],
   "source": [
    "for col in df.columns:\n",
    "    print(\"Column:\", col)\n",
    "    print(*sorted(df[col].unique()), sep=\"\\n\")\n",
    "    print()"
   ]
  },
  {
   "cell_type": "markdown",
   "metadata": {},
   "source": [
    "Note: \n",
    "* R stands for Respondent\n",
    "* DK stands for Don't Know\n",
    "* NA stands for Not Applicable or Not Available\n",
    "* RF stands for refused to say\n",
    "* Pre IW stands for Pre-election interviews (two months prior to elections)\n",
    "* Post IW stands for Pre-election reinterviewing\n",
    "\n",
    "Please take a close look at the columns. "
   ]
  },
  {
   "cell_type": "markdown",
   "metadata": {},
   "source": [
    "Notice that all the categories are represented by numerals that are in single digit. Let us use regular expressions package `re` to extract the numerical categories for the columns."
   ]
  },
  {
   "cell_type": "code",
   "execution_count": null,
   "metadata": {},
   "outputs": [],
   "source": [
    "import re"
   ]
  },
  {
   "cell_type": "markdown",
   "metadata": {},
   "source": [
    "First we need to figure out the pattern to extract the categories. Since all the columns in our dataframe needs the exact same processing, we can first figure out the pattern for the `race` column. For that we pick the first value for the race, call it `x` and then find the pattern for it."
   ]
  },
  {
   "cell_type": "code",
   "execution_count": null,
   "metadata": {},
   "outputs": [],
   "source": [
    "x = df.loc[0, 'race']\n",
    "x"
   ]
  },
  {
   "cell_type": "markdown",
   "metadata": {},
   "source": [
    "Use `re.findall()` on `x` to extract `6`. Hint: `\\d` is used to detect all the digits. Please refer to the section 3 in *Data manipulation with pandas* notebook."
   ]
  },
  {
   "cell_type": "code",
   "execution_count": null,
   "metadata": {},
   "outputs": [],
   "source": []
  },
  {
   "cell_type": "markdown",
   "metadata": {},
   "source": [
    "Fill in the function below to extract catgeories that will be applied to all the columns and ***return the extracted category***."
   ]
  },
  {
   "cell_type": "code",
   "execution_count": null,
   "metadata": {},
   "outputs": [],
   "source": [
    "def extract_category(x):\n",
    "    # Fill in below\n",
    "\n",
    "    return cat"
   ]
  },
  {
   "cell_type": "markdown",
   "metadata": {},
   "source": [
    "Use [`map()`](https://pandas.pydata.org/pandas-docs/stable/reference/api/pandas.Series.map.html) function to apply `extract_category` to the race column. \n",
    "\n",
    "Hint: \n",
    "* The syntax is `df['Relevant_column'] = df['Relevant_column'].map(function_name)`. "
   ]
  },
  {
   "cell_type": "code",
   "execution_count": null,
   "metadata": {},
   "outputs": [],
   "source": []
  },
  {
   "cell_type": "markdown",
   "metadata": {},
   "source": [
    "Let us check whether the *race* column is truly modified."
   ]
  },
  {
   "cell_type": "code",
   "execution_count": null,
   "metadata": {},
   "outputs": [],
   "source": [
    "df['race'].head()"
   ]
  },
  {
   "cell_type": "markdown",
   "metadata": {},
   "source": [
    "You should get the following output:\n",
    "\n",
    "```\n",
    "0    6\n",
    "1    1\n",
    "2    1\n",
    "3    1\n",
    "4    1\n",
    "Name: race, dtype: object\n",
    "```"
   ]
  },
  {
   "cell_type": "markdown",
   "metadata": {},
   "source": [
    "Let us check the datatypes of all the columns using [`dtypes`](https://pandas.pydata.org/pandas-docs/stable/reference/api/pandas.DataFrame.dtypes.html)."
   ]
  },
  {
   "cell_type": "code",
   "execution_count": null,
   "metadata": {},
   "outputs": [],
   "source": [
    "df.dtypes"
   ]
  },
  {
   "cell_type": "markdown",
   "metadata": {},
   "source": [
    "The `object` datatype is not suitable for the [`scikit-learn`](https://scikit-learn.org/stable/) models that we will use below. Let us change it into `category` datatype using [`astype`](https://pandas.pydata.org/pandas-docs/stable/reference/api/pandas.DataFrame.astype.html)."
   ]
  },
  {
   "cell_type": "markdown",
   "metadata": {},
   "source": [
    "df['race'] = df['race'].astype('category')"
   ]
  },
  {
   "cell_type": "code",
   "execution_count": null,
   "metadata": {},
   "outputs": [],
   "source": [
    "df['race'].head()"
   ]
  },
  {
   "cell_type": "markdown",
   "metadata": {},
   "source": [
    "The change in the data type should be reflected in the above output as:   \n",
    "`Name: race, dtype: category\n",
    "Categories (7, object): [1, 2, 3, 4, 5, 6, 9]`"
   ]
  },
  {
   "cell_type": "markdown",
   "metadata": {},
   "source": [
    "So far, only *race* column is changed:"
   ]
  },
  {
   "cell_type": "code",
   "execution_count": null,
   "metadata": {},
   "outputs": [],
   "source": [
    "df.head(3)"
   ]
  },
  {
   "cell_type": "markdown",
   "metadata": {},
   "source": [
    "Let us first copy the original dataframe as old_df so that we can refer back to it later if needed."
   ]
  },
  {
   "cell_type": "code",
   "execution_count": null,
   "metadata": {},
   "outputs": [],
   "source": [
    "old_df = df.copy() "
   ]
  },
  {
   "cell_type": "markdown",
   "metadata": {},
   "source": [
    "Use a for loop to map the above function `extract_category` to each column and then change its datatype `astype('category')`, as tested above. "
   ]
  },
  {
   "cell_type": "code",
   "execution_count": null,
   "metadata": {},
   "outputs": [],
   "source": []
  },
  {
   "cell_type": "markdown",
   "metadata": {},
   "source": [
    "Check again that all the columns are now converted to categories."
   ]
  },
  {
   "cell_type": "code",
   "execution_count": null,
   "metadata": {},
   "outputs": [],
   "source": [
    "df.head()"
   ]
  },
  {
   "cell_type": "markdown",
   "metadata": {},
   "source": [
    "Let us check datatypes again."
   ]
  },
  {
   "cell_type": "code",
   "execution_count": null,
   "metadata": {},
   "outputs": [],
   "source": [
    "df.dtypes"
   ]
  },
  {
   "cell_type": "markdown",
   "metadata": {},
   "source": [
    "Now, we have the data cleaned up, you should proceed to work on this dataset on your own. Following are some ideas to guide you in the process. Please feel free to reach out to the instructor/TAs to ask for help/discuss.\n",
    "\n",
    "Exploratory data analysis of the features using graphs and other means:\n",
    "* Intented vs actual vote for presidential canditate \n",
    "* How race, education, income group, etc. affect the vote?\n",
    "\n",
    "Build models (using Decision Trees and/or Random Forest) to predict:\n",
    "* whether a respondent voted or not for the national election (Target for atleast 75% accuracy on the validation set)\n",
    "* vote for president (Target for atleast 70% accuracy on the validation set)\n",
    "* vote for congressman (optional)\n",
    "\n",
    "Tips:\n",
    "* Start with a basic model with minimal features \n",
    "* Try adding/removing features to see how it affects the model. \n",
    "* Try removing rows with certain conditions. For example, while building the prediction model for presidential election:\n",
    "    * you can use `df = df[df['votenat']=='2']` to filter only the respondents who voted in the elections. \n",
    "    * you can simplify the model by restricting to respondents that voted either Republican or Democratic.\n",
    "* Use creativity in feature engineering \n",
    "\n",
    "***Important note: Beware of Data Leakage while building models:***\n",
    "* Do not use a feature that inadvertently reveal information about the target variable that was not supposed to be known. For example, for predicting the target variable `votepresid`, you cannot use `votecong` and vice versa.  \n",
    "\n",
    "At the end, make a copy of the notebook and clean it all up to present the analysis and model in a clear and coherent manner. It would be a great idea to share your work as a blog using [Github Pages](https://help.github.com/en/articles/what-is-github-pages).\n",
    "\n",
    "For your reference:\n",
    "* race : Race-ethnicity summary, 7 categories\n",
    "* incgroup : DEMOGRAPHICS: Respondent Family - Income Group\n",
    "* education : DEMOGRAPHICS: Respondent - Education, 7-categories\n",
    "* classpercep : DEMOGRAPHICS: Respondent - Average or Upper Middle/Working Class \n",
    "* votenat : ELECTION: Did Respondent Vote in the National Elections\n",
    "* votepresid : ELECTION: Vote for President- Major Parties and Other\n",
    "* votecong : ELECTION: Vote for Congressman\n",
    "* voteincumb : ELECTION: Did Respondent Vote for Incumbent U.S. House Candidate\n",
    "* prevote : ELECTION: Respondent Pre-election Intent for Vote for President\n",
    "* voteintactual : ELECTION: Intended Presidential Vote versus Actual Presidential Vote \n",
    "* voterpref : ELECTION: Voter Strength of Preference - Presidential Cand \n",
    "* novoterpref : ELECTION: Nonvoter Strength of Preference- Presidential Cand \n",
    "* mobiliz : MOBILIZATION: Respondent Try to Influence the Vote of Others During the Campaign\n",
    "* poldiscuss : POLITICAL ENGAGEMENT: Respondent Discuss Politics with Family and Friends\n",
    "* jobscale : ISSUES: Guaranteed Jobs and Income Scale\n",
    "* numcandidat: ELECTION/RACE DESCRIPTION: Number of Candidates in U.S. House Race\n",
    "* close : POLITICAL ENGAGEMENT: Which Presidential Race in State Be Close\n",
    "* staterace : ELECTION/RACE DESCRIPTION: Senate Race in State\n",
    "\n",
    "Note: \n",
    "* R stands for Respondent\n",
    "* DK stands for Don't Know\n",
    "* NA stands for Not Applicable or Not Available\n",
    "* RF stands for refused to say\n",
    "* Pre IW stands for Pre-election interviews (two months prior to elections)\n",
    "* Post IW stands for Pre-election reinterviewing"
   ]
  },
  {
   "cell_type": "code",
   "execution_count": null,
   "metadata": {},
   "outputs": [],
   "source": []
  },
  {
   "cell_type": "code",
   "execution_count": null,
   "metadata": {},
   "outputs": [],
   "source": []
  },
  {
   "cell_type": "code",
   "execution_count": null,
   "metadata": {},
   "outputs": [],
   "source": []
  },
  {
   "cell_type": "code",
   "execution_count": null,
   "metadata": {},
   "outputs": [],
   "source": []
  },
  {
   "cell_type": "code",
   "execution_count": null,
   "metadata": {},
   "outputs": [],
   "source": []
  },
  {
   "cell_type": "code",
   "execution_count": null,
   "metadata": {},
   "outputs": [],
   "source": []
  },
  {
   "cell_type": "markdown",
   "metadata": {},
   "source": [
    "Note: You will revisit this dataset for a short time in the next session when you will learn other machine learning algorithms. **Please make sure to write your code and analysis clearly so that you can quickly restart from where you leave today.**\n",
    "\n",
    "#### Acknowledgment:\n",
    "* The dataset used in this project is taken from [ANES (American National Election Study)](https://electionstudies.org/data-center/)."
   ]
  },
  {
   "cell_type": "code",
   "execution_count": null,
   "metadata": {},
   "outputs": [],
   "source": []
  }
 ],
 "metadata": {
  "kernelspec": {
   "display_name": "Python 3",
   "language": "python",
   "name": "python3"
  },
  "language_info": {
   "codemirror_mode": {
    "name": "ipython",
    "version": 3
   },
   "file_extension": ".py",
   "mimetype": "text/x-python",
   "name": "python",
   "nbconvert_exporter": "python",
   "pygments_lexer": "ipython3",
   "version": "3.6.8"
  }
 },
 "nbformat": 4,
 "nbformat_minor": 2
}
