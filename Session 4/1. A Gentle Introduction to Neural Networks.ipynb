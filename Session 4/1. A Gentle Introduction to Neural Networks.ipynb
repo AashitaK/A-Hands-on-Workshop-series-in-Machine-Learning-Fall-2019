{
 "cells": [
  {
   "cell_type": "markdown",
   "metadata": {},
   "source": [
    "## A Hands-on Workshop series in Machine Learning\n",
    "### Session 4: A Gentle Introduction to Neural Networks\n",
    "#### Instructor: Aashita Kesarwani\n",
    "\n",
    "What is Machine Learning?\n",
    "\n",
    "What is Deep Learning?\n",
    "\n",
    "Why the sudden growth in the applications of Deep Learning?   \n",
    "1. Data availability\n",
    "2. Computing power \n",
    "\n",
    "<img src=\"https://cdn-images-1.medium.com/max/1600/0*GTzatEUd4cICPVub.\" width=\"600\" height=\"850\" />\n",
    "\n",
    "\n",
    "Three types of machine learning:\n",
    "- Supervised\n",
    "- Unsupervised\n",
    "- Reinforcement Learning\n",
    "\n",
    "\n",
    "\n",
    "Data for supervised learning consists of pairs (input, output). For example,\n",
    "\n",
    "| Input  | Output |\n",
    "| ------ | ------ |\n",
    "| Photos | Label: cats, dogs, birds, etc. |\n",
    "| Emails | Label: Spam or not |\n",
    "| House characteristics | House prices |\n",
    "| A sentence in English | Its translation in Spanish |\n",
    "\n",
    "The first step is to convert the real world entity, such as an email, image or other data, into feature vectors.\n",
    "\n",
    "Let us assume for the rest of the session that our training data is already pre-processed and converted into feature vectors. For $n$ features, a feature vector is nothing but a point in the $n$-dimensional space viz. $x = (x_1, x_2, \\dots, x_n)$.\n",
    "\n",
    "For supervised machine learning algorithm, the goal is to best estimate the mapping function $f$ for the output variable $y$ given the input data $X$. \n",
    "\n",
    "There are two major tasks for supervised machine learning: \n",
    "- Classification\n",
    "- Regression\n",
    "\n",
    "We have studied some binary classification algorithms in the previous two sessions, for which the output variable $y$ is one of the classes - 0 or 1 for the input data $X$. Let us start with our first regression algorithm in today's session. \n",
    "\n",
    "\n",
    "#### Regression:   \n",
    "- Fitting a curve to determine the impact of feature variables on the target variable.\n",
    "\n",
    "<img src=\"https://upload.wikimedia.org/wikipedia/commons/8/8a/Gaussian_kernel_regression.png\" width=\"300\" height=\"350\" />\n",
    "<p style=\"text-align: center;\"> Regression curve </p> \n"
   ]
  },
  {
   "cell_type": "markdown",
   "metadata": {},
   "source": [
    "Linear Regression: Fitting a ***line*** to determine the impact of feature variables on the target variable.\n",
    "\n",
    "<img src=\"images/regressionline.png\" />"
   ]
  },
  {
   "cell_type": "markdown",
   "metadata": {},
   "source": [
    "* Which one of the above two lines is a better fit? Red or Green?\n",
    "* Can there be an even better fit? How do we find out?\n",
    "* What precisely are we looking for in the line that is the best fit?\n",
    "\n",
    "Answer: We are trying to minimize the error in predictions given by the line vs the actual target value.\n",
    "\n",
    "<img src=\"http://www.ken-szulczyk.com/misc/statistics/linear_regression.png\" width=\"300\" height=\"300\" />\n",
    "\n",
    "The simple linear regression (linear regression with one variable) is formulated as $ y_{pred} = w * x + b $.\n",
    "\n",
    "Finding the best fit line simply means ***finding the optimal values for $w$ and $b$***. For that, we need to quantify the cost function (also known as the error function or the loss function) that we can minimize. \n",
    "\n",
    "* How do we formulate the cost function?\n",
    "* Should we sum up the errors? If not, why?\n",
    "\n",
    "The simple linear regression model uses the mean-squared error (MSE) as the cost function. We square the errors and then take their average.\n",
    "\n",
    "$$ J = \\frac{1}{2 n} \\sum_{i=1}^n (y^{(i)} - y_{pred}^{(i)})^2 $$\n",
    "\n",
    "The cost function is inherently a function of the slope and intercept. This is evident once we substitute $y_{pred}$ with the regression line.\n",
    "\n",
    "$$ J(w, b) = \\frac{1}{2 n} \\sum_{i=1}^n (y^{(i)} - (w * x^{(i)} + b) )^2 $$\n",
    "\n",
    "We use a well-known and widely used optimization algorithm called [gradient descent algorithm](https://machinelearningmastery.com/gradient-descent-for-machine-learning/), introduced in the last session, to minimize the cost by updating the weights iteratively. \n",
    "\n",
    "Q: How does the gradient descent algorithm work?\n",
    "* We start with some weights initially\n",
    "* Let the model make prediction $y_{pred}$ for a training example $x$\n",
    "* Compute the cost using the prediction $y_{pred}$ and the actual target $y$ \n",
    "* Compute the gradient of the cost and use it to update the weights\n",
    "* Repeat the above steps for another training example\n",
    "\n",
    "The weights are updated in the direction of the steepest descent of the cost function in each iteration. \n",
    "\n",
    "$$ w := w - \\alpha \\nabla J $$\n",
    "\n",
    "where $\\nabla J$ is the gradient of the cost function $J$ and $\\alpha$ is the learning rate that determines the size of steps that we take descending on the path of gradient.\n",
    "\n",
    "<img src=\"https://rasbt.github.io/mlxtend/user_guide/general_concepts/gradient-optimization_files/ball.png\" width=\"350\" height=\"450\" />\n",
    "<p style=\"text-align: center;\"> Minimizing the cost function using gradient descent </p> \n",
    "\n",
    "\n",
    "To derive the formula for updating weights using gradient descent, we first substitute $ y_{pred}^{(i)} = w * x^{(i)}+b $ in $J$ to get\n",
    "\n",
    "$$ J = \\frac{1}{2 n} \\sum_{i=1}^n (y^{(i)} - (w * x^{(i)}+b))^2 $$\n",
    "\n",
    "Then we take the partial derivative, \n",
    "$$ \\frac{\\partial J}{\\partial w} = - \\frac{1}{n} \\sum_{i=1}^n (y^{(i)} - y_{pred}^{(i)})   \\ x^{(i)} $$\n",
    "Thus, we get\n",
    "$$ w := w + \\alpha \\frac{1}{n} \\sum_{i=1}^n (y^{(i)} - y_{pred}^{(i)})   \\ x^{(i)} $$\n",
    "Similarly,\n",
    "$$ b := b + \\alpha \\frac{1}{n} \\sum_{i=1}^n (y^{(i)} - y_{pred}^{(i)})   $$\n",
    "\n",
    "To summarize, *we defined a cost function to quantify the error in predicting outputs and then we update the weights so as to minimize the cost in the fastest way with the help of gradient descent algorithm*."
   ]
  },
  {
   "cell_type": "code",
   "execution_count": 1,
   "metadata": {},
   "outputs": [],
   "source": [
    "import pandas as pd\n",
    "\n",
    "import matplotlib.pyplot as plt\n",
    "import seaborn as sns\n",
    "%matplotlib inline"
   ]
  },
  {
   "cell_type": "markdown",
   "metadata": {},
   "source": [
    "**An illustrative example:**\n",
    "We use a pre-processed sample from the [Boston house prices dataset](https://scikit-learn.org/stable/datasets/index.html#boston-dataset) to predict the house prices based on the number of rooms.\n",
    "* RM: average number of rooms per dwelling  $\\leftarrow$ **Input** $x$\n",
    "* MEDV: Median value of owner-occupied homes in $\\$$1000’s $\\leftarrow$ **Target** $y$"
   ]
  },
  {
   "cell_type": "code",
   "execution_count": 2,
   "metadata": {},
   "outputs": [
    {
     "data": {
      "image/png": "[encoded data removed]",
      "text/plain": [
       "<Figure size 432x288 with 1 Axes>"
      ]
     },
     "metadata": {
      "needs_background": "light"
     },
     "output_type": "display_data"
    }
   ],
   "source": [
    "path = 'data/'\n",
    "df = pd.read_csv(path + 'sample_boston.csv')\n",
    "x = df['RM'].values\n",
    "y = df['MEDV'].values \n",
    "plt.scatter(x, y);\n",
    "plt.xlabel(\"Average number of rooms\");\n",
    "plt.ylabel(\"Median value of homes in $1000’s\");"
   ]
  },
  {
   "cell_type": "markdown",
   "metadata": {},
   "source": [
    "We now illustrate the iterative process of weight updates. For that, we will use some functions written in the python file `linreg.py`. "
   ]
  },
  {
   "cell_type": "code",
   "execution_count": 3,
   "metadata": {},
   "outputs": [
    {
     "name": "stdout",
     "output_type": "stream",
     "text": [
      "Illustration of weight update iterations using gradient descent for the linear regression model\n",
      "Initial Slope: 10\n",
      "Intial Intercept: -60\n",
      "Initial Cost: 190.19816199999997\n",
      "\n",
      "After 1 iteration\n",
      "Updated Slope : 11.184782216\n",
      "Updated Intercept: -59.811852\n",
      "Cost: 75.86129656320212\n",
      "\n",
      "After 2 iteration\n",
      "Updated Slope : 11.88249570429828\n",
      "Updated Intercept: -59.70028979002189\n",
      "Cost: 36.195927731260625\n",
      "\n",
      "After 3 iteration\n",
      "Updated Slope : 12.293328290270463\n",
      "Updated Intercept: -59.633836270263934\n",
      "Cost: 22.43520539146035\n",
      "\n",
      "After 4 iteration\n",
      "Updated Slope : 12.535189547489416\n",
      "Updated Intercept: -59.59395159491338\n",
      "Cost: 17.661188049225554\n",
      "\n",
      "After 5 iteration\n",
      "Updated Slope : 12.677527593062061\n",
      "Updated Intercept: -59.56971589254\n",
      "Cost: 16.004791608442744\n"
     ]
    },
    {
     "data": {
      "image/png": "[encoded data removed]",
      "text/plain": [
       "<Figure size 864x432 with 1 Axes>"
      ]
     },
     "metadata": {
      "needs_background": "light"
     },
     "output_type": "display_data"
    },
    {
     "data": {
      "image/png": "[encoded data removed]",
      "text/plain": [
       "<Figure size 576x288 with 1 Axes>"
      ]
     },
     "metadata": {
      "needs_background": "light"
     },
     "output_type": "display_data"
    }
   ],
   "source": [
    "n = len(y) # Number of training examples\n",
    "alpha = 0.01 # Learning rate\n",
    "w = 10 # Slope\n",
    "b = -60 # Intercept\n",
    "print(\"Illustration of weight update iterations using gradient descent for the linear regression model\")\n",
    "from utils.linreg import iterations\n",
    "iterations(x, y, w, b, alpha, n, 5)"
   ]
  },
  {
   "cell_type": "markdown",
   "metadata": {},
   "source": [
    "[Scikit-learn](https://scikit-learn.org/stable/) is a machine learning library of choice in the Python ecosystem that has efficient implementation of many algorithms including the linear regression as demonstrated below. First we import the function [LinearRegression](https://scikit-learn.org/stable/modules/generated/sklearn.linear_model.LinearRegression.html) and then initialize the regressor."
   ]
  },
  {
   "cell_type": "code",
   "execution_count": 4,
   "metadata": {},
   "outputs": [],
   "source": [
    "from sklearn.linear_model import LinearRegression\n",
    "lin_reg = LinearRegression()"
   ]
  },
  {
   "cell_type": "markdown",
   "metadata": {},
   "source": [
    "Then we train the regressor using the [`fit()`](https://scikit-learn.org/stable/modules/generated/sklearn.linear_model.LinearRegression.html#sklearn.linear_model.LinearRegression.fit) method on the data points."
   ]
  },
  {
   "cell_type": "code",
   "execution_count": 5,
   "metadata": {},
   "outputs": [
    {
     "data": {
      "text/plain": [
       "LinearRegression(copy_X=True, fit_intercept=True, n_jobs=None,\n",
       "         normalize=False)"
      ]
     },
     "execution_count": 5,
     "metadata": {},
     "output_type": "execute_result"
    }
   ],
   "source": [
    "X = x.reshape(-1, 1)\n",
    "lin_reg.fit(X, y)"
   ]
  },
  {
   "cell_type": "markdown",
   "metadata": {},
   "source": [
    "Next, we plot the regression line using the functions written in the python file `linreg.py`. "
   ]
  },
  {
   "cell_type": "code",
   "execution_count": 6,
   "metadata": {},
   "outputs": [
    {
     "name": "stdout",
     "output_type": "stream",
     "text": [
      "Weight: 9.559377910614936\n",
      "Intercept -38.40693672735857\n",
      "Cost: 13.165639342962303\n"
     ]
    },
    {
     "data": {
      "image/png": "[encoded data removed]",
      "text/plain": [
       "<Figure size 432x288 with 1 Axes>"
      ]
     },
     "metadata": {
      "needs_background": "light"
     },
     "output_type": "display_data"
    }
   ],
   "source": [
    "from utils.linreg import cost, plot_regression_line\n",
    "w = lin_reg.coef_[0]\n",
    "b = lin_reg.intercept_\n",
    "print(\"Weight:\", w)\n",
    "print(\"Intercept\", b)\n",
    "print(\"Cost:\", cost(x, y, w, b, n))\n",
    "plot_regression_line(x, y, w, b);"
   ]
  },
  {
   "cell_type": "markdown",
   "metadata": {},
   "source": [
    "The same formulation and understanding can be extended to linear regression with more than one variable, say $x_1, x_2, \\dots, x_n$, with the equation \n",
    "\n",
    "$$ y_{pred} = b + w_1 * x_1 + w_2 * x_2 + \\cdots + w_n * x_n$$ \n",
    "\n",
    "And we estimate the weights $w_1, w_2, \\dots, w_n$ corresponding to each variable as well as the intercept.\n",
    "\n",
    "\n",
    "Linear regression is the simplest example of a neural network with no hidden layers."
   ]
  },
  {
   "cell_type": "markdown",
   "metadata": {},
   "source": [
    "<img src=\"https://qph.fs.quoracdn.net/main-qimg-6f8c9994c154097ada51aa9e113e6515\" width=\"450\">"
   ]
  },
  {
   "cell_type": "markdown",
   "metadata": {},
   "source": [
    "We again use the sample from the [Boston house prices dataset](https://scikit-learn.org/stable/datasets/index.html#boston-dataset) to train a neural network to predict the house prices, but this time we use two input features *RM* and *AGE* instead of one."
   ]
  },
  {
   "cell_type": "code",
   "execution_count": 7,
   "metadata": {},
   "outputs": [
    {
     "data": {
      "text/html": [
       "<div>\n",
       "<style scoped>\n",
       "    .dataframe tbody tr th:only-of-type {\n",
       "        vertical-align: middle;\n",
       "    }\n",
       "\n",
       "    .dataframe tbody tr th {\n",
       "        vertical-align: top;\n",
       "    }\n",
       "\n",
       "    .dataframe thead th {\n",
       "        text-align: right;\n",
       "    }\n",
       "</style>\n",
       "<table border=\"1\" class=\"dataframe\">\n",
       "  <thead>\n",
       "    <tr style=\"text-align: right;\">\n",
       "      <th></th>\n",
       "      <th>RM</th>\n",
       "      <th>AGE</th>\n",
       "      <th>MEDV</th>\n",
       "    </tr>\n",
       "  </thead>\n",
       "  <tbody>\n",
       "    <tr>\n",
       "      <th>0</th>\n",
       "      <td>6.433</td>\n",
       "      <td>49.1</td>\n",
       "      <td>24.5</td>\n",
       "    </tr>\n",
       "    <tr>\n",
       "      <th>1</th>\n",
       "      <td>6.144</td>\n",
       "      <td>32.2</td>\n",
       "      <td>19.8</td>\n",
       "    </tr>\n",
       "    <tr>\n",
       "      <th>2</th>\n",
       "      <td>7.107</td>\n",
       "      <td>36.6</td>\n",
       "      <td>30.3</td>\n",
       "    </tr>\n",
       "  </tbody>\n",
       "</table>\n",
       "</div>"
      ],
      "text/plain": [
       "      RM   AGE  MEDV\n",
       "0  6.433  49.1  24.5\n",
       "1  6.144  32.2  19.8\n",
       "2  7.107  36.6  30.3"
      ]
     },
     "execution_count": 7,
     "metadata": {},
     "output_type": "execute_result"
    }
   ],
   "source": [
    "df.head(3)"
   ]
  },
  {
   "cell_type": "markdown",
   "metadata": {},
   "source": [
    "* RM: average number of rooms per dwelling  $\\leftarrow$ **Input** $x_1$\n",
    "* AGE: proportion of owner-occupied units built prior to 1940 $\\leftarrow$ **Input** $x_2$\n",
    "* MEDV: Median value of owner-occupied homes in $\\$$1000’s $\\leftarrow$ **Target** $y$\n",
    "\n",
    "![](https://miro.medium.com/max/1113/0*wOYoifz24Wz_I152.)\n",
    "\n",
    "Let the weights be $w_1 = 10$ and $w_2=-0.5$ corresponding to the features $RM$ $(x_1)$ and $AGE$ $(x_2)$ respectively. Let the bias term be $b = -10$. \n",
    "\n",
    "Let us predict the output for a particular input, say $RM=6$ and $AGE=50$ that are approximation for the values of the first example in our dataset for which the target value is $MEDV=24.5$.  \n",
    "\n",
    "Notes:\n",
    "* Increasing the weight for a variable means it is becoming more impactful in the prediction. \n",
    "* The weights for two variables cannot be compared straightway unless they are in same scale or are normalized to be in the same scale."
   ]
  },
  {
   "cell_type": "markdown",
   "metadata": {},
   "source": [
    "Though linear regression has a simple network architecture, it serves as a good demonstration for the learning process for the neural network. \n",
    "\n",
    "* We define the cost function to quantify the error in prediction, which is effectively a function of weights and bias term. \n",
    "* We use a dataset to learn the optimal weights of the network. We call it the training dataset. \n",
    "* Minimizing the cost function using the training data yields the desired weights. The gradient descent algorithm is used for this learning process.\n",
    "\n"
   ]
  },
  {
   "cell_type": "markdown",
   "metadata": {},
   "source": [
    "## Classification: \n",
    "\n",
    "\n",
    "Machine learning approach to classification task: \n",
    "We are given some labeled data which we use to determine the decision boundary. Then, we use this decision boundary to classify the yet unseen examples into the given categories.\n",
    "\n",
    "<img src=\"https://camo.githubusercontent.com/f663cd4f29335972950dded4d422c07aeee8af55/68747470733a2f2f63646e2d696d616765732d312e6d656469756d2e636f6d2f6d61782f313630302f312a34473067737539327250684e2d636f397076315035414032782e706e67\" width=\"300\" height=\"350\" />\n",
    "<p style=\"text-align: center;\"> Logistic Regression classifier </p>\n",
    "\n",
    "For simplicity, let us assume we have only two classes:\n",
    "* the positive class labeled as 1 \n",
    "* the negative class labeled as 0\n",
    "\n",
    "Can we somehow modify the neural network architecture we studied earlier for linear regression to build a binary classifier?\n",
    "<img src=\"https://qph.fs.quoracdn.net/main-qimg-6f8c9994c154097ada51aa9e113e6515\" width=\"450\">\n",
    "\n",
    "Simplest but outdated trick was to use the threshold to get the neuron fired or not.\n",
    "<img src=\"https://cdn-images-1.medium.com/max/2600/1*v88ySSMr7JLaIBjwr4chTw.jpeg\" width=\"500\" height=\"550\" />\n",
    "<p style=\"text-align: center;\"> A Perceptron Classifier</p>\n",
    "\n",
    "The bias term let us set a threshold so that if the weighted input sum is greater than 0, then the neuron fires or else it does not. When the neuron fires, we classify the example as belonging to the positive class, otherwise the negative class. \n",
    "\n",
    "The function that was used to determine whether the neuron fires or not is called the activation function. Note that it is the unit step function.\n",
    "\n",
    "\\begin{equation} \\label{eq1}\n",
    "\\begin{split}\n",
    "f(x) & = 1 \\text{ if } w_1*x_1 + w_2*x_2 + \\cdots + w_n*x_n + b \\geq 0\\\\      \n",
    "& = 0 \\text{ otherwise}\n",
    "\\end{split}\n",
    "\\end{equation}"
   ]
  },
  {
   "cell_type": "markdown",
   "metadata": {},
   "source": [
    "***Exercise 1:***\n",
    "\n",
    "Q1: Can you come up with a neural network for the OR gate?\n",
    "<br/>\n",
    "<img align=\"left\" src=\"images/or.png\" height=\"100\" />\n",
    "<img align=\"left\" src=\"http://hyperphysics.phy-astr.gsu.edu/hbase/Electronic/ietron/or.gif\" width=\"410\" /> \n",
    "<br/><br/><br/><br/><br/><br/><br/><br/><br/><br/><br/><br/><br/><br/><br/><br/><br/>\n",
    "<br/><br/><br/>\n",
    "\n",
    "Hint:\n",
    "- Step 1: How many input nodes should we have? Do not forget the bias term.\n",
    "- Step 2: Sketch the neural network and put the variables with names on it, such as $x_1, x_2, b, w_1, w_2$, etc.\n",
    "- Step 3: Come up with some values for the weight and bias that will give the correct prediction for one of the points.\n",
    "- Step 4: Update the weight and bias term, if necessary, to give correct predictions for another point as well as the previous one(s). Repeat for the remaining point(s).\n",
    "<br/>\n",
    "\n",
    "Note: You do not need to find the most optimal weights (and consequently the best decision bounadry line). Any weights that correctly classifies the four points will do!\n",
    "\n",
    "Q2: Can you come up with a neural network for the AND gate?\n",
    "<br/>\n",
    "<img align=\"left\" src=\"images/and.png\" height=\"100\" />\n",
    "<img align=\"left\" src=\"http://hyperphysics.phy-astr.gsu.edu/hbase/Electronic/ietron/and.gif\" width=\"410\" /> \n",
    "<br/><br/><br/><br/><br/><br/><br/><br/><br/><br/><br/><br/><br/><br/><br/><br/><br/>\n",
    "<br/><br/>\n",
    "\n",
    "Q3: Would a similar network work for the XOR gate?\n",
    "<br/>\n",
    "<img align=\"left\" src=\"images/xor.png\" height=\"100\" />\n",
    "<img align=\"left\" src=\"http://hyperphysics.phy-astr.gsu.edu/hbase/Electronic/ietron/xor.gif\" width=\"410\" /> \n",
    "<br/><br/><br/><br/><br/><br/><br/><br/><br/><br/><br/><br/><br/><br/><br/><br/><br/>\n"
   ]
  },
  {
   "cell_type": "markdown",
   "metadata": {},
   "source": [
    "The single-layer neural network that we used for the OR and AND gates can only give us a linear boundary. It is evident that it is simply not possible for a linear decision boundary to correctly classify all the points in XOR gate. \n",
    "\n",
    "It is pretty common for real-life classification problems to have non-linear decision boundaries. That is why we add hidden layers to the neural networks. The layers other than the input and output layers in the network are called hidden layers. Deep Learning typically means that the network is pretty deep (many hidden layers!).\n",
    "\n",
    "\n",
    "\n",
    "<img src=\"https://www.researchgate.net/profile/Mohamed_Zahran6/publication/303875065/figure/fig4/AS:371118507610123@1465492955561/A-hypothetical-example-of-Multilayer-Perceptron-Network.png\" width=\"450\" height=\"500\" />\n",
    "<p style=\"text-align: center;\"> Multi-layer Perceptron </p>\n",
    "\n",
    "***Exercise 2:***\n",
    "Can you now come up with a neural network for the XOR gate?\n",
    "    - Would the number of nodes in the input and output layers change as compared to the OR and AND gates above? \n",
    "    - If you were to come up with a minimal network (with the least number of layers and nodes), what would it be?\n",
    "\n",
    "\n",
    "Hint: XOR is equivalent to (NAND) AND (OR) where NAND is the negative of AND. See the truth tables above to verify it.\n",
    "1. It would be easy to come up with a neural network for the NAND gate (how would you get it from the one for the AND gate?) \n",
    "2. Next, combine the NAND gate with the OR gate using AND gate weights. It would make more sense if you give it a try!"
   ]
  },
  {
   "cell_type": "markdown",
   "metadata": {},
   "source": [
    "The neural networks for classification we have seen so far outputs the class label for each input example.\n",
    "\n",
    "In general, we want to classify the examples farther from the decision boundary with more certainity (or higher probability) than those closer to the decision boundary.  Hence, we want our classifier to give us the probabilities corresponding to each class, instead of the class label itself.\n",
    "\n",
    "\n",
    "We have seen an example of a binary classification algorithm called Logistic Regression classifier, that separates the classes using Linear boundary.\n",
    "\n",
    "<img src=\"https://camo.githubusercontent.com/f663cd4f29335972950dded4d422c07aeee8af55/68747470733a2f2f63646e2d696d616765732d312e6d656469756d2e636f6d2f6d61782f313630302f312a34473067737539327250684e2d636f397076315035414032782e706e67\" width=\"300\" height=\"350\" />\n",
    "<p style=\"text-align: center;\"> Logistic Regression classifier </p>\n",
    "\n",
    "The Logistic regression model is given by,\n",
    "\n",
    "$$Prob(y=1) = sig(w_1*x_1 + w_2*x_2 + \\cdots + w_n*x_n + b) $$ \n",
    "\n",
    "where $sig$ is the sigmoid logistic function \n",
    "$$sig(t) = \\frac{1}{1+e^{-t}}$$\n",
    "\n",
    "<img src=\"https://upload.wikimedia.org/wikipedia/commons/5/53/Sigmoid-function-2.svg\" width=400 />\n",
    "\n",
    "\n",
    "The inspiration for our first neural network was the linear regression above. Can we also represent the logistic classifier, that also contains the weighted sum $w_1*x_1 + w_2*x_2 + \\cdots + w_n*x_n + b$ in its equation, as a neural network?\n",
    "\n",
    "A: Yes, we simply add a layer for the sigmoid sum.\n",
    "\n",
    "![](https://sebastianraschka.com/images/faq/logisticregr-neuralnet/schematic.png)\n",
    "\n",
    "\n",
    "It is called activation function. We will come back to other examples. One way to introduce non-linearity was the addition of hidden layer as seen above. The activation functions themselves also add non-linearity. For the logistic regression, we used the sigmoid function at the end. For neural networks, it is common to use activation function for each layer.\n",
    "\n",
    "Let us formalize the neural networks introduced so far. There are two parts to the learning process:\n",
    "1. Forward propagation: used to predict the output by propagating the input in the forward direction\n",
    "2. Backward propagation: used to compute the weight updates for each layer by propagating the cost/error in the backward direction.\n",
    "\n",
    "\n",
    "#### Forward propagation\n",
    "\n",
    "The process of propagating the output of each layer in the forward direction to consequently get the final output is called forward propagation. \n",
    "\n",
    "The output of each hidden layer becomes the input of the next layer. The output is also called the activation for a layer.\n",
    "\n",
    "The output/activation for each layer is computed in two steps:\n",
    "* The weighted sum of the inputs, say $z_i$\n",
    "* The activation function is applied to the above sum $z_i$ to produce the activation $a_i$\n",
    "\n",
    "Equations:  \n",
    "$$z_1 = x*W_1+b_1$$\n",
    "$$a_1 = g_1(z_1)$$\n",
    "$$z_2 = a_1*W_2+b_2$$\n",
    "$$a_2 = g_2(z_2)$$\n",
    "$$ \\vdots $$\n",
    "$$z_n = a_{n-1}*W_n+b_n$$\n",
    "$$a_n = g_n(z_n)$$\n",
    "and so on till the final output $y_{pred} = a_n$.\n",
    "\n",
    "Convention:  \n",
    "$z_i$: weighted averages of the output from the $(i-1)^{th}$ layer  \n",
    "$a_i$: activation/output of the $i^{th}$ layer  \n",
    "$g_i$: activation layer of the $i^{th}$ layer  \n",
    "$W_i$: Weight matrices connecting two layers   \n",
    "$b_i$: Bias vector for the $i$-th layer  \n",
    "$m$: Number of training examples\n",
    "\n",
    "\n",
    "\n",
    "\n",
    "#### Backward propagation\n",
    "\n",
    "The process of propagating the cost in the backward direction to compute the gradients for each layer so as to update the weights and bias is called backward propagation. \n",
    "\n",
    "Equations:  \n",
    "$$W_n := W_n - \\frac{1}{m}\\alpha*\\frac{dJ}{dW_n}$$    \n",
    "$$b_n := b_n - \\frac{1}{m}\\alpha*\\frac{dJ}{db_n}$$\n",
    "$$ \\vdots $$\n",
    "$$ \\vdots $$ \n",
    "$$W_1 := W_1 - \\frac{1}{m}\\alpha*\\frac{dJ}{dW_1}$$   \n",
    "$$b_1 := b_1 - \\frac{1}{m}\\alpha*\\frac{dJ}{db_1}$$  \n",
    "\n",
    "Here, $\\alpha$ is the learning rate that is multiplied to the gradients to tune the size of each weight/bias update.\n",
    "\n",
    "The gradients are computed using the chain rule for derivatives, as illustrated below in the exercise example.\n",
    "\n",
    "One pass of each forward and backward propagation is called an iteration. When all the training examples are iterated once, it is called an epoch.  \n",
    "\n",
    "\n",
    "***Exercise 3:*** \n",
    "In the above exercise, we came up with the weights for the neural network for the OR gate by trial-and-error method. Let us derive the **back propagation equations** so that we can find optimal weights for the network starting with random weights.\n",
    "\n",
    "![](https://miro.medium.com/max/1113/0*wOYoifz24Wz_I152.)\n",
    "\n",
    "The forward propagation equations will be:  \n",
    "$ z_1 = w_1 x_1 + w_2 x_2 + b$  \n",
    "$ a_1 = g(z_1) $  \n",
    "$ y_{pred} = a_1 $  \n",
    "\n",
    "\n",
    "Let the activation function be sigmoid \n",
    "$$ g(z) = \\frac{1}{1+e^{-z}} $$\n",
    "Let the cost function be $$ J = \\frac{1}{2} \\sum_{i=1}^4 (y^{(i)} - y_{pred}^{(i)})^2 $$\n",
    "\n",
    "Derive the Back propagation equations by calculating the gradients (partial derivatives):   \n",
    "\n",
    "$$ w_1 := w_1 - \\alpha \\frac{\\partial J}{\\partial w_1} $$  \n",
    "$$ w_2 := w_2 - \\alpha \\frac{\\partial J}{\\partial w_2} $$  \n",
    "$$ b := b - \\alpha \\frac{\\partial J}{\\partial b} $$  \n",
    "\n",
    "Hint: Use the chain rule for derivatives\n",
    "\n",
    "$$ \\frac{d f(y)}{dx} =  \\frac{d f(y)}{dy} \\frac{d y}{dx}$$"
   ]
  },
  {
   "cell_type": "markdown",
   "metadata": {},
   "source": [
    "#### Summary:\n",
    "\n",
    "Let us summarize what we have learned so far.\n",
    "\n",
    "Terminology:\n",
    "* Nodes\n",
    "* Input layer\n",
    "* Hidden layers\n",
    "* Output layer\n",
    "* Weights\n",
    "* Bias\n",
    "* Weighted sum $z_i$\n",
    "* Activation functions $g_i$\n",
    "* Activations $a_i$\n",
    "* Cost function $J$\n",
    "* Forward propagation\n",
    "* Backward propagation\n",
    "* Iterations\n",
    "* Epochs\n",
    "* Learning rate $\\alpha$\n",
    "\n",
    "Q: What does the machine learn?\n",
    "\n",
    "A: Weights and biases\n",
    "\n",
    "Q: How does the machine learn the weights and biases?\n",
    "\n",
    "A: Weights and biases are updated to keep on ***minimizing the cost function*** iteratively using the training data. \n",
    "\n",
    "***Q: When to stop the iterative learning process? Until the cost function has reached its minimum value?*** "
   ]
  },
  {
   "cell_type": "markdown",
   "metadata": {},
   "source": [
    "To answer the question, let us consider this binary classification problem, seen earlier. \n",
    "<img src=\"https://upload.wikimedia.org/wikipedia/commons/1/19/Overfitting.svg\" width=\"250\" height=\"250\" />\n",
    "\n",
    "* Which of the two decision boundaries (black or green) will have a lower value for the cost function?\n",
    "* Which decision boundary would you prefer for classifying the unseen examples?\n",
    "\n",
    "Since the cost function is calculated solely based on the training dataset, minimizing it too much might mean that the model do not generalize well to unseen examples. This is called overfitting. "
   ]
  },
  {
   "cell_type": "markdown",
   "metadata": {},
   "source": [
    "#### How to address overfitting?\n",
    "- Reduce the number of features \n",
    "    - Discard some features\n",
    "    - Dimensionality reduction techniques such PCA, LDA, etc.\n",
    "- Simplify the model (by tuning hyperparameters)\n",
    "- Reducing the number of epochs for training the network\n",
    "- Regularization, Dropout, etc.\n",
    "- Adding more training examples, if possible  \n",
    "<img src=\"https://i.stack.imgur.com/rpqa6.jpg\" width=\"450\" height=\"600\" />\n",
    "\n",
    "In a nutshell, \n",
    "* **To reduce overfitting, reduce complexity.**\n",
    "* **To reduce underfitting, increase complexity.**\n",
    "\n",
    "We will learn the above concepts in more detail in the next session."
   ]
  },
  {
   "cell_type": "markdown",
   "metadata": {},
   "source": [
    "# Acknowledgements:\n",
    "The credits for the images used above are as follows.\n",
    "* Image 1: https://hackernoon.com/%EF%B8%8F-big-challenge-in-deep-learning-training-data-31a88b97b282\n",
    "* Image 2: https://commons.wikimedia.org/wiki/File:Gaussian_kernel_regression.png\n",
    "* Image 4: http://www.ken-szulczyk.com/misc/statistical_lecture_10.php\n",
    "* Image 5: https://rasbt.github.io/mlxtend/user_guide/general_concepts/gradient-optimization/\n",
    "* Image 6 and 9: https://www.cs.cmu.edu/afs/cs.cmu.edu/academic/class/15381-s06/www/nn.pdf\n",
    "* Image 7 and 18: https://medium.com/@jayeshbahire/the-xor-problem-in-neural-networks-50006411840b\n",
    "* Image 8 and 15: https://github.com/trekhleb/machine-learning-octave/tree/master/logistic-regression\n",
    "* Image 10: https://towardsdatascience.com/multi-layer-neural-networks-with-sigmoid-function-deep-learning-for-rookies-2-bf464f09eb7f\n",
    "* Image 11(b), 12(b) and 13(b): http://hyperphysics.phy-astr.gsu.edu/hbase/index.html\n",
    "* Image 14: https://www.researchgate.net/figure/A-hypothetical-example-of-Multilayer-Perceptron-Network_fig4_303875065\n",
    "* Image 16: https://towardsdatascience.com/derivative-of-the-sigmoid-function-536880cf918e\n",
    "* Image 17: https://sebastianraschka.com/faq/docs/logisticregr-neuralnet.html\n",
    "* Image 19: https://commons.wikimedia.org/wiki/File:Overfitting.svg\n",
    "* Image 20: https://stats.stackexchange.com/questions/292283/general-question-regarding-over-fitting-vs-complexity-of-models?rq=1\n",
    "\n",
    "The rest of the images are created by the author.\n",
    "\n"
   ]
  },
  {
   "cell_type": "code",
   "execution_count": null,
   "metadata": {},
   "outputs": [],
   "source": []
  }
 ],
 "metadata": {
  "kernelspec": {
   "display_name": "Python 3",
   "language": "python",
   "name": "python3"
  },
  "language_info": {
   "codemirror_mode": {
    "name": "ipython",
    "version": 3
   },
   "file_extension": ".py",
   "mimetype": "text/x-python",
   "name": "python",
   "nbconvert_exporter": "python",
   "pygments_lexer": "ipython3",
   "version": "3.6.8"
  }
 },
 "nbformat": 4,
 "nbformat_minor": 2
}
