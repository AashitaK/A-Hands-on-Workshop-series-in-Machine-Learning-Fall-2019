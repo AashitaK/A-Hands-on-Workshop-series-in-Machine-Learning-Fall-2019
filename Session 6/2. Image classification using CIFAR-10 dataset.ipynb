{
 "cells": [
  {
   "cell_type": "markdown",
   "metadata": {
    "colab_type": "text",
    "id": "uOEmN2lcWVCx"
   },
   "source": [
    "## A Hands-on Workshop series in Machine Learning\n",
    "### Session 6: Image classification using CIFAR-10 dataset\n",
    "#### Instructor: Aashita Kesarwani\n",
    "\n",
    "\n",
    "[CIFAR-10](https://en.wikipedia.org/wiki/CIFAR-10) is a popular dataset for image classification used in machine learning and computer vision. It consists of (32X32) color images (50,000 for training plus 10,000 for validation) in 10 classes labeled from 0 to 9: \n",
    "0. airplanes\n",
    "1. cars \n",
    "2. birds\n",
    "4. cats\n",
    "5. deer\n",
    "6. dogs\n",
    "7. frogs \n",
    "8. horses\n",
    "9. ships\n",
    "10. trucks."
   ]
  },
  {
   "cell_type": "code",
   "execution_count": 1,
   "metadata": {
    "colab": {},
    "colab_type": "code",
    "id": "jH3lecI8WNtL"
   },
   "outputs": [
    {
     "name": "stderr",
     "output_type": "stream",
     "text": [
      "Using TensorFlow backend.\n"
     ]
    },
    {
     "name": "stdout",
     "output_type": "stream",
     "text": [
      "50000 train samples\n",
      "10000 validation samples\n"
     ]
    }
   ],
   "source": [
    "import numpy as np\n",
    "import matplotlib.pyplot as plt\n",
    "from keras.datasets import cifar10\n",
    "(X_train, y_train), (X_valid, y_valid) = cifar10.load_data()\n",
    "print(X_train.shape[0], 'train samples')\n",
    "print(X_valid.shape[0], 'validation samples')"
   ]
  },
  {
   "cell_type": "code",
   "execution_count": 2,
   "metadata": {
    "colab": {},
    "colab_type": "code",
    "id": "QuG09TK8O2o1"
   },
   "outputs": [
    {
     "data": {
      "image/png": "[encoded data removed]",
      "text/plain": [
       "<Figure size 432x288 with 1 Axes>"
      ]
     },
     "metadata": {
      "needs_background": "light"
     },
     "output_type": "display_data"
    }
   ],
   "source": [
    "plt.imshow(X_train[0])\n",
    "plt.show()"
   ]
  },
  {
   "cell_type": "markdown",
   "metadata": {
    "colab_type": "text",
    "id": "m32kqS_RY_Q2"
   },
   "source": [
    "The labels are values between 0 and 9 corresponding to the class. This image is labelled 6 for frogs:"
   ]
  },
  {
   "cell_type": "code",
   "execution_count": 3,
   "metadata": {
    "colab": {},
    "colab_type": "code",
    "id": "v4rULEUbYPWX"
   },
   "outputs": [
    {
     "data": {
      "text/plain": [
       "array([6], dtype=uint8)"
      ]
     },
     "execution_count": 3,
     "metadata": {},
     "output_type": "execute_result"
    }
   ],
   "source": [
    "y_train[0]"
   ]
  },
  {
   "cell_type": "markdown",
   "metadata": {
    "colab_type": "text",
    "id": "UhtqufhHh_S0"
   },
   "source": [
    "We will encode the labels as one-hot vectors so that they can be used more easily with our neural network later, since the network will output a vector of length 10 corresponding to how likely the image is a member of each class."
   ]
  },
  {
   "cell_type": "code",
   "execution_count": 4,
   "metadata": {
    "colab": {},
    "colab_type": "code",
    "id": "uqqxkN8dpXSE"
   },
   "outputs": [],
   "source": [
    "from keras.utils import to_categorical\n",
    "num_classes = 10\n",
    "y_train = to_categorical(y_train, num_classes)\n",
    "y_valid = to_categorical(y_valid, num_classes)"
   ]
  },
  {
   "cell_type": "markdown",
   "metadata": {},
   "source": [
    "Let us check the one-hot encoded vector for the first training example that is labeled as zero."
   ]
  },
  {
   "cell_type": "code",
   "execution_count": 5,
   "metadata": {
    "colab": {},
    "colab_type": "code",
    "id": "v4rULEUbYPWX"
   },
   "outputs": [
    {
     "data": {
      "text/plain": [
       "array([0., 0., 0., 0., 0., 0., 1., 0., 0., 0.], dtype=float32)"
      ]
     },
     "execution_count": 5,
     "metadata": {},
     "output_type": "execute_result"
    }
   ],
   "source": [
    "y_train[0]"
   ]
  },
  {
   "cell_type": "markdown",
   "metadata": {
    "colab_type": "text",
    "id": "shTwxg4Pds5w"
   },
   "source": [
    "Let us define the network architecture for the CNN model. We will use [`Conv2D`](https://keras.io/layers/convolutional/) for the convolution layers, [`MaxPooling2D`](https://keras.io/layers/pooling/) for the pooling layers, [`Flatten`](https://keras.io/layers/core/#flatten) for flattening the feature maps, [`Dense`](https://keras.io/layers/core/#dense) for fully-connected layers and [`Dropout`](https://keras.io/layers/core/#dropout) for the dropout. \n",
    "\n",
    "For the [`Conv2D`](https://keras.io/layers/convolutional/), \n",
    "* the `filters` passes the number of filters\n",
    "* the `kernel_size` passes the size of filters\n",
    "* the `he_uniform` initializer is a way to initialize the weights that helps training\n",
    "* the `'same'` padding means that the width and height of the output of the layer are the same as the input."
   ]
  },
  {
   "cell_type": "code",
   "execution_count": 8,
   "metadata": {
    "colab": {},
    "colab_type": "code",
    "id": "DOwZiXp22DeY"
   },
   "outputs": [
    {
     "name": "stdout",
     "output_type": "stream",
     "text": [
      "_________________________________________________________________\n",
      "Layer (type)                 Output Shape              Param #   \n",
      "=================================================================\n",
      "conv2d_1 (Conv2D)            (None, 32, 32, 32)        896       \n",
      "_________________________________________________________________\n",
      "conv2d_2 (Conv2D)            (None, 32, 32, 32)        9248      \n",
      "_________________________________________________________________\n",
      "max_pooling2d_1 (MaxPooling2 (None, 16, 16, 32)        0         \n",
      "_________________________________________________________________\n",
      "dropout_1 (Dropout)          (None, 16, 16, 32)        0         \n",
      "_________________________________________________________________\n",
      "conv2d_3 (Conv2D)            (None, 16, 16, 64)        18496     \n",
      "_________________________________________________________________\n",
      "conv2d_4 (Conv2D)            (None, 16, 16, 64)        36928     \n",
      "_________________________________________________________________\n",
      "max_pooling2d_2 (MaxPooling2 (None, 8, 8, 64)          0         \n",
      "_________________________________________________________________\n",
      "dropout_2 (Dropout)          (None, 8, 8, 64)          0         \n",
      "_________________________________________________________________\n",
      "conv2d_5 (Conv2D)            (None, 8, 8, 128)         73856     \n",
      "_________________________________________________________________\n",
      "conv2d_6 (Conv2D)            (None, 8, 8, 128)         147584    \n",
      "_________________________________________________________________\n",
      "max_pooling2d_3 (MaxPooling2 (None, 4, 4, 128)         0         \n",
      "_________________________________________________________________\n",
      "dropout_3 (Dropout)          (None, 4, 4, 128)         0         \n",
      "_________________________________________________________________\n",
      "flatten_1 (Flatten)          (None, 2048)              0         \n",
      "_________________________________________________________________\n",
      "dense_1 (Dense)              (None, 128)               262272    \n",
      "_________________________________________________________________\n",
      "dropout_4 (Dropout)          (None, 128)               0         \n",
      "_________________________________________________________________\n",
      "dense_2 (Dense)              (None, 10)                1290      \n",
      "=================================================================\n",
      "Total params: 550,570\n",
      "Trainable params: 550,570\n",
      "Non-trainable params: 0\n",
      "_________________________________________________________________\n"
     ]
    }
   ],
   "source": [
    "from keras.models import Sequential\n",
    "from keras.layers import Dense, Dropout, Flatten, Conv2D, MaxPooling2D\n",
    "from keras.optimizers import Adam\n",
    "\n",
    "input_shape = (32, 32, 3)\n",
    "\n",
    "# Build and train the CNN\n",
    "model = Sequential()\n",
    "model.add(Conv2D(filters=32, kernel_size=(3, 3), activation='sigmoid', kernel_initializer='he_uniform', padding='same', input_shape=input_shape))\n",
    "model.add(Conv2D(filters=32, kernel_size=(3, 3), activation='sigmoid', kernel_initializer='he_uniform', padding='same'))\n",
    "model.add(MaxPooling2D(pool_size=(2, 2))) # outputs a matrix with half width and height\n",
    "model.add(Dropout(0.2)) # Dropout layers prevent overfitting, helping the model generalize\n",
    "\n",
    "model.add(Conv2D(filters=64, kernel_size=(3, 3), activation='sigmoid', kernel_initializer='he_uniform', padding='same'))\n",
    "model.add(Conv2D(filters=64, kernel_size=(3, 3), activation='sigmoid', kernel_initializer='he_uniform', padding='same'))\n",
    "model.add(MaxPooling2D(pool_size=(2, 2)))\n",
    "model.add(Dropout(0.2))\n",
    "\n",
    "model.add(Conv2D(filters=128, kernel_size=(3, 3), activation='sigmoid', kernel_initializer='he_uniform', padding='same'))\n",
    "model.add(Conv2D(filters=128, kernel_size=(3, 3), activation='sigmoid', kernel_initializer='he_uniform', padding='same'))\n",
    "model.add(MaxPooling2D(pool_size=(2, 2)))\n",
    "model.add(Dropout(0.2))\n",
    "\n",
    "model.add(Flatten())\n",
    "model.add(Dense(128, activation='sigmoid'))\n",
    "model.add(Dropout(0.2))\n",
    "model.add(Dense(10, activation='softmax'))\n",
    "\n",
    "model.summary()"
   ]
  },
  {
   "cell_type": "markdown",
   "metadata": {
    "colab_type": "text",
    "id": "1Qx23L8d252A"
   },
   "source": [
    "Now train the model:"
   ]
  },
  {
   "cell_type": "code",
   "execution_count": 9,
   "metadata": {
    "colab": {},
    "colab_type": "code",
    "id": "eAKCRENMdRUz"
   },
   "outputs": [
    {
     "name": "stdout",
     "output_type": "stream",
     "text": [
      "Train on 50000 samples, validate on 10000 samples\n",
      "Epoch 1/15\n",
      "50000/50000 [==============================] - 261s 5ms/step - loss: 2.2283 - acc: 0.1427 - val_loss: 1.9553 - val_acc: 0.2697\n",
      "Epoch 2/15\n",
      "50000/50000 [==============================] - 216s 4ms/step - loss: 1.7993 - acc: 0.3239 - val_loss: 1.6642 - val_acc: 0.3807\n",
      "Epoch 3/15\n",
      "50000/50000 [==============================] - 175s 4ms/step - loss: 1.6148 - acc: 0.4016 - val_loss: 1.5051 - val_acc: 0.4429\n",
      "Epoch 4/15\n",
      "50000/50000 [==============================] - 181s 4ms/step - loss: 1.4984 - acc: 0.4485 - val_loss: 1.4286 - val_acc: 0.4738\n",
      "Epoch 5/15\n",
      "50000/50000 [==============================] - 176s 4ms/step - loss: 1.4099 - acc: 0.4887 - val_loss: 1.3367 - val_acc: 0.5138\n",
      "Epoch 6/15\n",
      "50000/50000 [==============================] - 175s 4ms/step - loss: 1.3267 - acc: 0.5202 - val_loss: 1.2592 - val_acc: 0.5450\n",
      "Epoch 7/15\n",
      "50000/50000 [==============================] - 174s 3ms/step - loss: 1.2437 - acc: 0.5495 - val_loss: 1.1898 - val_acc: 0.5743\n",
      "Epoch 8/15\n",
      "50000/50000 [==============================] - 175s 4ms/step - loss: 1.1784 - acc: 0.5791 - val_loss: 1.1147 - val_acc: 0.6058\n",
      "Epoch 9/15\n",
      "50000/50000 [==============================] - 173s 3ms/step - loss: 1.1201 - acc: 0.6017 - val_loss: 1.0793 - val_acc: 0.6169\n",
      "Epoch 10/15\n",
      "50000/50000 [==============================] - 174s 3ms/step - loss: 1.0752 - acc: 0.6206 - val_loss: 1.0332 - val_acc: 0.6307\n",
      "Epoch 11/15\n",
      "50000/50000 [==============================] - 181s 4ms/step - loss: 1.0297 - acc: 0.6371 - val_loss: 0.9998 - val_acc: 0.6519\n",
      "Epoch 12/15\n",
      "50000/50000 [==============================] - 182s 4ms/step - loss: 0.9925 - acc: 0.6481 - val_loss: 0.9704 - val_acc: 0.6574\n",
      "Epoch 13/15\n",
      "50000/50000 [==============================] - 185s 4ms/step - loss: 0.9623 - acc: 0.6611 - val_loss: 0.9354 - val_acc: 0.6698\n",
      "Epoch 14/15\n",
      "50000/50000 [==============================] - 183s 4ms/step - loss: 0.9276 - acc: 0.6720 - val_loss: 0.9126 - val_acc: 0.6770\n",
      "Epoch 15/15\n",
      "50000/50000 [==============================] - 183s 4ms/step - loss: 0.8965 - acc: 0.6850 - val_loss: 0.9283 - val_acc: 0.6747\n",
      "Test loss: 0.9282948303222657\n",
      "Test accuracy: 0.6747\n"
     ]
    }
   ],
   "source": [
    "batch_size = 64\n",
    "num_classes = 10\n",
    "epochs = 15\n",
    "\n",
    "opt = Adam(lr=0.0005, beta_1=0.9, beta_2=0.999) # Adam is one good optimizer function; lr is the learning rate\n",
    "\n",
    "model.compile(loss='categorical_crossentropy',\n",
    "              optimizer=opt,\n",
    "              metrics=['accuracy'])\n",
    "\n",
    "model.fit(X_train, y_train,\n",
    "          batch_size=batch_size,\n",
    "          epochs=epochs,\n",
    "          verbose=1,\n",
    "          validation_data=(X_valid, y_valid))\n",
    "score = model.evaluate(X_valid, y_valid, verbose=0)\n",
    "print('Test loss:', score[0])\n",
    "print('Test accuracy:', score[1])"
   ]
  },
  {
   "cell_type": "markdown",
   "metadata": {
    "colab_type": "text",
    "id": "asqHlSSNWLyW"
   },
   "source": [
    "This may take a while to run (as the network has 550,570 parameters training on the dataset of 50,000 images). Once it's done, it should have reached roughly 65-70% test accuracy if you didn't change anything about the model. Not terrible given that there are 10 categories! With more sophisticated network architectures we can get this number higher and higher. \n",
    "\n",
    "Exercise: To get a better test accuracy and speed up learning, try tuning various hyperparameters of the network such as\n",
    "* the number of layers \n",
    "* the type of layers\n",
    "* the number of nodes in the layers\n",
    "* the learning rate or using different optimizers such as Adam, RMSprop, AdaGrad, etc., \n",
    "* the dropout probability\n",
    "* the activation functions \n",
    "* the number of epochs\n",
    "* the batch size"
   ]
  },
  {
   "cell_type": "code",
   "execution_count": null,
   "metadata": {
    "colab": {},
    "colab_type": "code",
    "id": "arJiUJr2vyhK"
   },
   "outputs": [],
   "source": []
  }
 ],
 "metadata": {
  "accelerator": "GPU",
  "colab": {
   "name": "cifar10.ipynb",
   "provenance": []
  },
  "kernelspec": {
   "display_name": "Python 3",
   "language": "python",
   "name": "python3"
  },
  "language_info": {
   "codemirror_mode": {
    "name": "ipython",
    "version": 3
   },
   "file_extension": ".py",
   "mimetype": "text/x-python",
   "name": "python",
   "nbconvert_exporter": "python",
   "pygments_lexer": "ipython3",
   "version": "3.6.8"
  }
 },
 "nbformat": 4,
 "nbformat_minor": 1
}
